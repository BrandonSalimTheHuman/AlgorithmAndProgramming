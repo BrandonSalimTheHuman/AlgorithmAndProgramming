{
 "cells": [
  {
   "cell_type": "code",
   "execution_count": 1,
   "id": "a47f5862",
   "metadata": {},
   "outputs": [
    {
     "name": "stdout",
     "output_type": "stream",
     "text": [
      "Enter the radius of the circle (in cm): 10\n",
      "The area of the circle is 314.16 cm**2\n"
     ]
    }
   ],
   "source": [
    "#number 1\n",
    "import math\n",
    "radius = eval(input(\"Enter the radius of the circle (in cm): \"))\n",
    "area = round(math.pi * radius ** 2, 2)\n",
    "print(\"The area of the circle is\", area, \"cm**2\")"
   ]
  },
  {
   "cell_type": "code",
   "execution_count": 2,
   "id": "8204741b",
   "metadata": {},
   "outputs": [
    {
     "name": "stdout",
     "output_type": "stream",
     "text": [
      "Please enter your first name: Brandon Salim\n",
      "Please enter your last name: milaS nodnarB\n",
      "milaS nodnarB Brandon Salim\n"
     ]
    }
   ],
   "source": [
    "#number 2\n",
    "first_name = input(\"Please enter your first name: \")\n",
    "last_name = input(\"Please enter your last name: \")\n",
    "print(last_name, first_name)"
   ]
  },
  {
   "cell_type": "code",
   "execution_count": 3,
   "id": "f0a67bdb",
   "metadata": {},
   "outputs": [
    {
     "name": "stdout",
     "output_type": "stream",
     "text": [
      "Red\n",
      "Black\n"
     ]
    }
   ],
   "source": [
    "#number 3\n",
    "color_list = [\"Red\",\"Green\",\"White\",\"Black\"]\n",
    "print(color_list[0])\n",
    "print(color_list[-1])"
   ]
  },
  {
   "cell_type": "code",
   "execution_count": 4,
   "id": "7b254176",
   "metadata": {},
   "outputs": [
    {
     "name": "stdout",
     "output_type": "stream",
     "text": [
      "Enter an integer: 23\n",
      "The value of 23 + 2323 + 232323 = 234669\n"
     ]
    }
   ],
   "source": [
    "#number 4\n",
    "integer = int(input(\"Enter an integer: \"))\n",
    "integer2 = int(str(integer) * 2)\n",
    "integer3 = int(str(integer) * 3)\n",
    "print(\"The value of\", integer, \"+\", integer2, \"+\", integer3, \"=\", integer + integer2 + integer3)"
   ]
  },
  {
   "cell_type": "code",
   "execution_count": 5,
   "id": "3bc7c512",
   "metadata": {},
   "outputs": [
    {
     "name": "stdout",
     "output_type": "stream",
     "text": [
      "The volume of the sphere is 904.78\n"
     ]
    }
   ],
   "source": [
    "#number 5\n",
    "import math\n",
    "radius = 6\n",
    "volume = round(4 / 3 * math.pi * pow(radius, 3), 2)\n",
    "print(\"The volume of the sphere is\", volume)"
   ]
  },
  {
   "cell_type": "code",
   "execution_count": 8,
   "id": "e98811a0",
   "metadata": {},
   "outputs": [
    {
     "name": "stdout",
     "output_type": "stream",
     "text": [
      "Enter a number: 113.4\n",
      "Double the absolute difference between 17 and the number you entered is 192.8\n"
     ]
    }
   ],
   "source": [
    "#number 6\n",
    "number = eval(input(\"Enter a number: \"))\n",
    "if number <= 17:\n",
    "    print(\"The difference between 17 and the number you entered is:\", 17 - number)\n",
    "else:\n",
    "    print(\"Double the absolute difference between 17 and the number you entered is\", (number - 17) * 2)"
   ]
  },
  {
   "cell_type": "code",
   "execution_count": 12,
   "id": "4af05aab",
   "metadata": {},
   "outputs": [
    {
     "name": "stdout",
     "output_type": "stream",
     "text": [
      "Enter the first number: 69\n",
      "Enter the second number: 69\n",
      "Enter the third number: 69\n",
      "Thrice of their sum is 621\n"
     ]
    }
   ],
   "source": [
    "#number 7\n",
    "number1 = eval(input(\"Enter the first number: \"))\n",
    "number2 = eval(input(\"Enter the second number: \"))\n",
    "number3 = eval(input(\"Enter the third number: \"))\n",
    "if number1 == number2 == number3:\n",
    "    print(\"Thrice of their sum is\", number1 * 9)\n",
    "else:\n",
    "    print(\"Their sum is\", number1 + number2 + number3)"
   ]
  },
  {
   "cell_type": "code",
   "execution_count": 15,
   "id": "1fdbcda7",
   "metadata": {},
   "outputs": [
    {
     "name": "stdout",
     "output_type": "stream",
     "text": [
      "Enter a number: -12312412\n",
      "The number you entered is even.\n"
     ]
    }
   ],
   "source": [
    "#number 8\n",
    "number = int(input(\"Enter a number: \"))\n",
    "if number%2 == 0:\n",
    "    print(\"The number you entered is even.\")\n",
    "else:\n",
    "    print(\"The number you entered is odd.\")"
   ]
  },
  {
   "cell_type": "code",
   "execution_count": null,
   "id": "e6bd9764",
   "metadata": {},
   "outputs": [],
   "source": [
    "#number 9\n",
    "letter = input(\"Enter a letter (in lowercase): \")\n",
    "if letter == \"a\" or letter == \"e\" or letter == \"i\" or letter == \"o\" or letter == \"u\":\n",
    "    print(\"The letter you entered is a vowel.\")\n",
    "else:\n",
    "    print(\"The letter you entered is a consonant\")"
   ]
  },
  {
   "cell_type": "code",
   "execution_count": 28,
   "id": "bb4b0adc",
   "metadata": {},
   "outputs": [
    {
     "name": "stdout",
     "output_type": "stream",
     "text": [
      "Guess one of my top 3 favourite composers: Pyotr Ilyich Tchaikovsky\n",
      "Your guess is correct.\n"
     ]
    }
   ],
   "source": [
    "#number 10\n",
    "favourite_composers = [\"Franz Liszt\", \"Pyotr Ilyich Tchaikovsky\", \"Frédéric Chopin\"]\n",
    "guess = input(\"Guess one of my top 3 favourite composers: \")\n",
    "check = False\n",
    "for i in favourite_composers:\n",
    "    if guess == i:\n",
    "        check = True\n",
    "if check:\n",
    "    print(\"Your guess is correct.\")\n",
    "else:\n",
    "    print(\"Your guess is not correct.\")"
   ]
  },
  {
   "cell_type": "code",
   "execution_count": 29,
   "id": "82e4f973",
   "metadata": {},
   "outputs": [
    {
     "name": "stdout",
     "output_type": "stream",
     "text": [
      "[386, 462, 418, 344, 236, 566, 978, 328, 162, 758, 918, 412, 566, 826, 248, 866, 950, 626, 104, 58, 512, 24, 892, 894, 742, 958]\n"
     ]
    }
   ],
   "source": [
    "#number 12\n",
    "numbers = [386, 462, 47, 418, 907, 344, 236, 375, 823, 566, 597, 978, 328, 615, 953, 345, \n",
    "           399, 162, 758, 219, 918, 237, 412, 566, 826, 248, 866, 950, 626, 949, 687, 217, \n",
    "           815, 67, 104, 58, 512, 24, 892, 894, 767, 553, 81, 379, 843, 831, 445, 742, 717, \n",
    "           958,743, 527]\n",
    "even = []\n",
    "for i in numbers:\n",
    "    if i%2 == 0:\n",
    "        even.append(i)\n",
    "print(even)"
   ]
  },
  {
   "cell_type": "code",
   "execution_count": 33,
   "id": "facf0eab",
   "metadata": {
    "scrolled": true
   },
   "outputs": [
    {
     "name": "stdout",
     "output_type": "stream",
     "text": [
      "Enter the base of the triangle (in cm): 10\n",
      "Enter the height of the triangle (in cm): 20\n",
      "The area of the triangle is 100.0 cm**2\n"
     ]
    }
   ],
   "source": [
    "#number 13\n",
    "base = eval(input(\"Enter the base of the triangle (in cm): \"))\n",
    "height = eval(input(\"Enter the height of the triangle (in cm): \"))\n",
    "area = base * height / 2\n",
    "print(\"The area of the triangle is\", area, \"cm**2\")"
   ]
  },
  {
   "cell_type": "code",
   "execution_count": 37,
   "id": "f8e3a936",
   "metadata": {},
   "outputs": [
    {
     "name": "stdout",
     "output_type": "stream",
     "text": [
      "Enter the first positive integer: 23\n",
      "Enter the second positive integer: 41\n",
      "The least common multiple of the two integers you entered is 943\n"
     ]
    }
   ],
   "source": [
    "#number14\n",
    "num1 = int(input(\"Enter the first positive integer: \"))\n",
    "num2 = int(input(\"Enter the second positive integer: \"))\n",
    "\n",
    "if num1 >= num2:\n",
    "    larger = num1\n",
    "    smaller = num2\n",
    "else:\n",
    "    larger = num2\n",
    "    smaller = num1\n",
    "\n",
    "check = False\n",
    "lcm = larger\n",
    "while check == False:\n",
    "    if lcm%num1 == 0:\n",
    "        check = True\n",
    "    else:\n",
    "        lcm = lcm + num2\n",
    "\n",
    "print(\"The least common multiple of the two integers you entered is\", lcm)"
   ]
  },
  {
   "cell_type": "code",
   "execution_count": 39,
   "id": "076278b2",
   "metadata": {},
   "outputs": [
    {
     "name": "stdout",
     "output_type": "stream",
     "text": [
      "Enter the first number: 234\n",
      "Enter the second number: 234\n",
      "Enter the third number: 111111111\n",
      "Since two of the values are equal, the sum is 0.\n"
     ]
    }
   ],
   "source": [
    "#number 15\n",
    "num1 = eval(input(\"Enter the first number: \"))\n",
    "num2 = eval(input(\"Enter the second number: \"))\n",
    "num3 = eval(input(\"Enter the third number: \"))\n",
    "\n",
    "if num1 == num2 or num2 == num3 or num1 == num3:\n",
    "    print(\"Since two of the values are equal, the sum is 0.\")\n",
    "else:\n",
    "    print(\"The sum of the three numbers is\", num1 + num2 + num3)"
   ]
  },
  {
   "cell_type": "code",
   "execution_count": 40,
   "id": "1861882f",
   "metadata": {},
   "outputs": [
    {
     "name": "stdout",
     "output_type": "stream",
     "text": [
      "Enter the value of x: 4\n",
      "Enter the value of y: 7\n",
      "The value of (x + y) * (x + y) is 121\n"
     ]
    }
   ],
   "source": [
    "#number 16\n",
    "x = eval(input(\"Enter the value of x: \"))\n",
    "y = eval(input(\"Enter the value of y: \"))\n",
    "print(\"The value of (x + y) * (x + y) is\", pow(x + y, 2))"
   ]
  },
  {
   "cell_type": "code",
   "execution_count": 46,
   "id": "82b6bc29",
   "metadata": {
    "scrolled": false
   },
   "outputs": [
    {
     "name": "stdout",
     "output_type": "stream",
     "text": [
      "Enter the principle amount: 10000\n",
      "Ente the rate of interest: 3.5\n",
      "Enter the number of years: 7\n",
      "The future value is 12722.79\n"
     ]
    }
   ],
   "source": [
    "#number 17\n",
    "value = eval(input(\"Enter the principle amount: \"))\n",
    "rate = eval(input(\"Ente the rate of interest: \"))\n",
    "years = int(input(\"Enter the number of years: \"))\n",
    "\n",
    "for i in range(years):\n",
    "    value = value * (1 + rate / 100)\n",
    "\n",
    "print(\"The future value is\", round(value, 2))"
   ]
  },
  {
   "cell_type": "code",
   "execution_count": 48,
   "id": "239295dc",
   "metadata": {},
   "outputs": [
    {
     "name": "stdout",
     "output_type": "stream",
     "text": [
      "Enter the x-coordinate of the first point: 10\n",
      "Enter the y-coordinate of the first point: 7\n",
      "Enter the x-coordinate of the second point: 3\n",
      "Enter the y-coordinate of the second point: 22\n",
      "The distance between the two points is 16.55\n"
     ]
    }
   ],
   "source": [
    "#number 18\n",
    "import math\n",
    "x1 = eval(input(\"Enter the x-coordinate of the first point: \"))\n",
    "y1 = eval(input(\"Enter the y-coordinate of the first point: \"))\n",
    "x2 = eval(input(\"Enter the x-coordinate of the second point: \"))\n",
    "y2 = eval(input(\"Enter the y-coordinate of the second point: \"))\n",
    "\n",
    "distance = round(math.sqrt(pow(x2 - x1, 2) + pow(y2 - y1, 2)), 2)\n",
    "\n",
    "print(\"The distance between the two points is\", distance)"
   ]
  },
  {
   "cell_type": "code",
   "execution_count": 49,
   "id": "b671e651",
   "metadata": {},
   "outputs": [
    {
     "name": "stdout",
     "output_type": "stream",
     "text": [
      "Enter a number: 10\n",
      "The sum of the first 10 positive values is 55\n"
     ]
    }
   ],
   "source": [
    "#number 19\n",
    "number = int(input(\"Enter a number: \"))\n",
    "sum = 0\n",
    "for i in range(number):\n",
    "    sum = sum + i + 1\n",
    "\n",
    "print(\"The sum of the first\", number, \"positive values is\", sum)"
   ]
  },
  {
   "cell_type": "code",
   "execution_count": 56,
   "id": "1c12ffdc",
   "metadata": {},
   "outputs": [
    {
     "name": "stdout",
     "output_type": "stream",
     "text": [
      "Enter your height in feet and inches.\n",
      "Feet: 5\n",
      "Inches: 11\n",
      "Your height is 180 cm.\n"
     ]
    }
   ],
   "source": [
    "#number 20\n",
    "print(\"Enter your height in feet and inches.\")\n",
    "feet = int(input(\"Feet: \"))\n",
    "inch = int(input(\"Inches: \"))\n",
    "cm = round((feet * 12 + inch) * 2.54)\n",
    "\n",
    "print(\"Your height is\", cm, \"cm.\")"
   ]
  },
  {
   "cell_type": "code",
   "execution_count": 52,
   "id": "af1bd3a4",
   "metadata": {},
   "outputs": [
    {
     "name": "stdout",
     "output_type": "stream",
     "text": [
      "Enter the base of the triangle: 10.34\n",
      "Enter the height of the triangle: 234.02\n",
      "The hypotense of the right-angled triangle is 234.25\n"
     ]
    }
   ],
   "source": [
    "#number 21\n",
    "import math\n",
    "base = eval(input(\"Enter the base of the triangle: \"))\n",
    "height = eval(input(\"Enter the height of the triangle: \"))\n",
    "\n",
    "hypotenuse = round(math.sqrt(base ** 2 + height ** 2), 2)\n",
    "\n",
    "print(\"The hypotense of the right-angled triangle is\", hypotenuse)"
   ]
  },
  {
   "cell_type": "code",
   "execution_count": 57,
   "id": "2ebd5db5",
   "metadata": {},
   "outputs": [
    {
     "name": "stdout",
     "output_type": "stream",
     "text": [
      "Enter your height (in m): 1.8\n",
      "Enter your weight (in kg): 90\n",
      "Your body mass index is 27.78\n"
     ]
    }
   ],
   "source": [
    "#number 22\n",
    "height = eval(input(\"Enter your height (in m): \"))\n",
    "weight = eval(input(\"Enter your weight (in kg): \"))\n",
    "bmi = round(weight / height ** 2, 2)\n",
    "\n",
    "print(\"Your body mass index is\", bmi)"
   ]
  },
  {
   "cell_type": "code",
   "execution_count": 60,
   "id": "cc4f259b",
   "metadata": {},
   "outputs": [
    {
     "name": "stdout",
     "output_type": "stream",
     "text": [
      "Enter the x-coordinate of the first point: 10\n",
      "Enter the y-coordinate of the first point: 5\n",
      "Enter the x-coordinate of the second point: 6\n",
      "Enter the y-coordinate of the second point: 7\n",
      "The midpoint of the line is (8.0, 6.0).\n"
     ]
    }
   ],
   "source": [
    "#number 23\n",
    "x1 = eval(input(\"Enter the x-coordinate of the first point: \"))\n",
    "y1 = eval(input(\"Enter the y-coordinate of the first point: \"))\n",
    "x2 = eval(input(\"Enter the x-coordinate of the second point: \"))\n",
    "y2 = eval(input(\"Enter the y-coordinate of the second point: \"))\n",
    "x_midpoint = str((x1+ x2) / 2)\n",
    "y_midpoint = str((y1 + y2) / 2)\n",
    "\n",
    "print(\"The midpoint of the line is (\" + x_midpoint + \",\", y_midpoint + \").\")"
   ]
  },
  {
   "cell_type": "code",
   "execution_count": 65,
   "id": "a9511df3",
   "metadata": {},
   "outputs": [
    {
     "name": "stdout",
     "output_type": "stream",
     "text": [
      "2002, 2009, 2016, 2023, 2037, 2044, 2051, 2058, 2072, 2079, 2086, 2093, 2107, 2114, 2121, 2128, 2142, 2149, 2156, 2163, 2177, 2184, 2191, 2198, 2212, 2219, 2226, 2233, 2247, 2254, 2261, 2268, 2282, 2289, 2296, 2303, 2317, 2324, 2331, 2338, 2352, 2359, 2366, 2373, 2387, 2394, 2401, 2408, 2422, 2429, 2436, 2443, 2457, 2464, 2471, 2478, 2492, 2499, 2506, 2513, 2527, 2534, 2541, 2548, 2562, 2569, 2576, 2583, 2597, 2604, 2611, 2618, 2632, 2639, 2646, 2653, 2667, 2674, 2681, 2688, 2702, 2709, 2716, 2723, 2737, 2744, 2751, 2758, 2772, 2779, 2786, 2793, 2807, 2814, 2821, 2828, 2842, 2849, 2856, 2863, 2877, 2884, 2891, 2898, 2912, 2919, 2926, 2933, 2947, 2954, 2961, 2968, 2982, 2989, 2996, 3003, 3017, 3024, 3031, 3038, 3052, 3059, 3066, 3073, 3087, 3094, 3101, 3108, 3122, 3129, 3136, 3143, 3157, 3164, 3171, 3178, 3192, 3199\n"
     ]
    }
   ],
   "source": [
    "#number 24\n",
    "result = []\n",
    "for i in range(2000, 3200):\n",
    "    if i%7 == 0 and i%5 != 0:\n",
    "        result.append(i)\n",
    "\n",
    "print(str(result).strip(\"[\").strip(\"]\"))"
   ]
  },
  {
   "cell_type": "code",
   "execution_count": 68,
   "id": "e88bf46b",
   "metadata": {},
   "outputs": [
    {
     "data": {
      "text/plain": [
       "(array([11.,  0.,  0.,  0.,  0.,  0.,  0.,  0.,  1.,  1.]),\n",
       " array([1.0000000e+01, 1.1232210e+05, 2.2463420e+05, 3.3694630e+05,\n",
       "        4.4925840e+05, 5.6157050e+05, 6.7388260e+05, 7.8619470e+05,\n",
       "        8.9850680e+05, 1.0108189e+06, 1.1231310e+06]),\n",
       " <BarContainer object of 10 artists>)"
      ]
     },
     "execution_count": 68,
     "metadata": {},
     "output_type": "execute_result"
    },
    {
     "data": {
      "image/png": "[encoded data removed]",
      "text/plain": [
       "<Figure size 640x480 with 1 Axes>"
      ]
     },
     "metadata": {},
     "output_type": "display_data"
    }
   ],
   "source": [
    "#number 11\n",
    "import matplotlib.pyplot as plot\n",
    "numbers = [23, 42, 69, 420, 1123131, 18, 2004, 2222, 666, 10, 99, 9999, 902020]\n",
    "plot.hist(numbers)"
   ]
  },
  {
   "cell_type": "code",
   "execution_count": null,
   "id": "7a521a64",
   "metadata": {},
   "outputs": [],
   "source": []
  }
 ],
 "metadata": {
  "kernelspec": {
   "display_name": "Python 3 (ipykernel)",
   "language": "python",
   "name": "python3"
  },
  "language_info": {
   "codemirror_mode": {
    "name": "ipython",
    "version": 3
   },
   "file_extension": ".py",
   "mimetype": "text/x-python",
   "name": "python",
   "nbconvert_exporter": "python",
   "pygments_lexer": "ipython3",
   "version": "3.10.7"
  }
 },
 "nbformat": 4,
 "nbformat_minor": 5
}
